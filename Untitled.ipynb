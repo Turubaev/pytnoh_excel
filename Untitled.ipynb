{
 "cells": [
  {
   "cell_type": "code",
   "execution_count": 66,
   "metadata": {},
   "outputs": [
    {
     "name": "stdout",
     "output_type": "stream",
     "text": [
      "    NaN   NaN      Пол\n",
      "0  None  None  Мужской\n",
      "1  None  None  Мужской\n",
      "2  None  None  Мужской\n"
     ]
    }
   ],
   "source": [
    "import xlwings as xw\n",
    "import pandas as pd\n",
    "\n",
    "wb = xw.Book('Справка о лесных пожарах (на дату)(1).xlsx') # Открываем книгу\n",
    "data_excel = wb.sheets['Отчет'] # Читаем лист Данные\n",
    "data_pd = data_excel.range('AL4:AM7').options(pd.DataFrame, header = 1, index = False).value # Создаем DataFrame\n",
    "data_pd['Пол'] = ['Значение','Значение','Значение']\n",
    "data_excel.range('AM10').options(index = False).value = data_pd\n",
    "print(data_pd)"
   ]
  },
  {
   "cell_type": "code",
   "execution_count": null,
   "metadata": {},
   "outputs": [],
   "source": []
  }
 ],
 "metadata": {
  "kernelspec": {
   "display_name": "Python 3",
   "language": "python",
   "name": "python3"
  },
  "language_info": {
   "codemirror_mode": {
    "name": "ipython",
    "version": 3
   },
   "file_extension": ".py",
   "mimetype": "text/x-python",
   "name": "python",
   "nbconvert_exporter": "python",
   "pygments_lexer": "ipython3",
   "version": "3.7.1"
  }
 },
 "nbformat": 4,
 "nbformat_minor": 2
}
